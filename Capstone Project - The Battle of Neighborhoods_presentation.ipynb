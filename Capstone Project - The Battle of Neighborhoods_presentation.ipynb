{
 "cells": [
  {
   "cell_type": "markdown",
   "metadata": {},
   "source": [
    "#  Capstone Project - The Battle of Neighborhoods (Week 2)"
   ]
  },
  {
   "cell_type": "markdown",
   "metadata": {},
   "source": [
    "### Applied Data Science Capstone by IBM/Coursera"
   ]
  },
  {
   "cell_type": "markdown",
   "metadata": {},
   "source": [
    "#### Introduction: Business Problem"
   ]
  },
  {
   "cell_type": "raw",
   "metadata": {},
   "source": [
    "Istanbul is one of the biggest city not only in Turkey but also in the world. If someone is looking for a place to open a coffee shop, the biggest problem would be where it should be? \n",
    "I will examine the street of Istanbul to find the best place to open coffee shop."
   ]
  },
  {
   "cell_type": "markdown",
   "metadata": {},
   "source": [
    "#### Data"
   ]
  },
  {
   "cell_type": "raw",
   "metadata": {},
   "source": [
    "The data is about geolocation which is collected from FourSquare. Data contains location of the coffee shop in Istanbul. Explanation of the location data is a standard tuple (lat, lng), where lat stands for latitude and lng for longitude. Also name,shortname,formattedAddress and  postalcode are collected.\n",
    "Data will be used in the following way: by knowing the locations of already existing cafes, it's possible to apply unsupervised learning technique like kernel density estimation (KDE) to determine the area of influence of the existing cafes, and start up new coffee shop which is not in the area of influence."
   ]
  },
  {
   "cell_type": "markdown",
   "metadata": {},
   "source": [
    "#### Methodolgy"
   ]
  },
  {
   "cell_type": "raw",
   "metadata": {},
   "source": [
    "Heatmap-based kernel density estimation was used. Heatmap is already installed with Folium. "
   ]
  },
  {
   "cell_type": "code",
   "execution_count": 3,
   "metadata": {},
   "outputs": [
    {
     "name": "stdout",
     "output_type": "stream",
     "text": [
      "Solving environment: done\n",
      "\n",
      "\n",
      "==> WARNING: A newer version of conda exists. <==\n",
      "  current version: 4.5.11\n",
      "  latest version: 4.8.2\n",
      "\n",
      "Please update conda by running\n",
      "\n",
      "    $ conda update -n base -c defaults conda\n",
      "\n",
      "\n",
      "\n",
      "# All requested packages already installed.\n",
      "\n"
     ]
    }
   ],
   "source": [
    "!conda install -c conda-forge folium=0.5.0 --yes"
   ]
  },
  {
   "cell_type": "code",
   "execution_count": 4,
   "metadata": {},
   "outputs": [],
   "source": [
    "import pandas as pd\n",
    "import folium"
   ]
  },
  {
   "cell_type": "code",
   "execution_count": 5,
   "metadata": {},
   "outputs": [],
   "source": [
    "CLIENT_ID = 'HCIWEYMLE0SJAI3ESV4AFX5PNQVBSLP5HQ1YU4GISAHHRIFV' # your Foursquare ID\n",
    "CLIENT_SECRET = 'P4KVBEVJDIVREULUPIZHUL124JX353PUIP5KWJOGX1PLDB5B' # your Foursquare Secret\n",
    "VERSION = '20200202' # Foursquare API version"
   ]
  },
  {
   "cell_type": "raw",
   "metadata": {},
   "source": [
    "Let's find coffee nearIstanbul center, in 1000 m radius."
   ]
  },
  {
   "cell_type": "code",
   "execution_count": 6,
   "metadata": {},
   "outputs": [],
   "source": [
    "import requests\n",
    "\n",
    "request_parameters = {\n",
    "    \"client_id\": CLIENT_ID,\n",
    "    \"client_secret\": CLIENT_SECRET,\n",
    "    \"v\": '20180605',\n",
    "    \"section\": \"coffee\",\n",
    "    \"near\": \"İstanbul\",\n",
    "    \"radius\": 1000,\n",
    "    \"limit\": 50}\n",
    "\n",
    "data = requests.get(\"https://api.foursquare.com/v2/venues/explore\", params=request_parameters)"
   ]
  },
  {
   "cell_type": "code",
   "execution_count": 7,
   "metadata": {},
   "outputs": [
    {
     "data": {
      "text/plain": [
       "dict_keys(['suggestedFilters', 'geocode', 'headerLocation', 'headerFullLocation', 'headerLocationGranularity', 'query', 'totalResults', 'suggestedBounds', 'groups'])"
      ]
     },
     "execution_count": 7,
     "metadata": {},
     "output_type": "execute_result"
    }
   ],
   "source": [
    "d = data.json()[\"response\"]\n",
    "d.keys()"
   ]
  },
  {
   "cell_type": "code",
   "execution_count": 8,
   "metadata": {},
   "outputs": [
    {
     "data": {
      "text/plain": [
       "('city', 'Istanbul', 'Istanbul')"
      ]
     },
     "execution_count": 8,
     "metadata": {},
     "output_type": "execute_result"
    }
   ],
   "source": [
    "d[\"headerLocationGranularity\"], d[\"headerLocation\"], d[\"headerFullLocation\"]"
   ]
  },
  {
   "cell_type": "code",
   "execution_count": 9,
   "metadata": {},
   "outputs": [
    {
     "data": {
      "text/plain": [
       "({'ne': {'lat': 41.021645123314876, 'lng': 28.961753664589285},\n",
       "  'sw': {'lat': 41.007660082677425, 'lng': 28.93980187306155}},\n",
       " 199)"
      ]
     },
     "execution_count": 9,
     "metadata": {},
     "output_type": "execute_result"
    }
   ],
   "source": [
    "d[\"suggestedBounds\"], d[\"totalResults\"]"
   ]
  },
  {
   "cell_type": "code",
   "execution_count": 10,
   "metadata": {},
   "outputs": [
    {
     "data": {
      "text/plain": [
       "{'what': '',\n",
       " 'where': 'istanbul',\n",
       " 'center': {'lat': 41.01384, 'lng': 28.94966},\n",
       " 'displayString': 'Istanbul, Turkey',\n",
       " 'cc': 'TR',\n",
       " 'geometry': {'bounds': {'ne': {'lat': 41.583896981907635,\n",
       "    'lng': 29.95880097737308},\n",
       "   'sw': {'lat': 40.80260400000006, 'lng': 27.971700000085676}}},\n",
       " 'slug': 'istanbul',\n",
       " 'longId': '72057594038672980'}"
      ]
     },
     "execution_count": 10,
     "metadata": {},
     "output_type": "execute_result"
    }
   ],
   "source": [
    "d[\"geocode\"]"
   ]
  },
  {
   "cell_type": "code",
   "execution_count": 11,
   "metadata": {},
   "outputs": [
    {
     "data": {
      "text/plain": [
       "dict_keys(['type', 'name', 'items'])"
      ]
     },
     "execution_count": 11,
     "metadata": {},
     "output_type": "execute_result"
    }
   ],
   "source": [
    "d[\"groups\"][0].keys()"
   ]
  },
  {
   "cell_type": "code",
   "execution_count": 12,
   "metadata": {},
   "outputs": [
    {
     "data": {
      "text/plain": [
       "('Recommended Places', 'recommended')"
      ]
     },
     "execution_count": 12,
     "metadata": {},
     "output_type": "execute_result"
    }
   ],
   "source": [
    "d[\"groups\"][0][\"type\"], d[\"groups\"][0][\"name\"]"
   ]
  },
  {
   "cell_type": "raw",
   "metadata": {},
   "source": [
    "Let's examine the data:"
   ]
  },
  {
   "cell_type": "code",
   "execution_count": 13,
   "metadata": {},
   "outputs": [
    {
     "name": "stdout",
     "output_type": "stream",
     "text": [
      "number of items: 50\n"
     ]
    },
    {
     "data": {
      "text/plain": [
       "{'reasons': {'count': 0,\n",
       "  'items': [{'summary': 'This spot is popular',\n",
       "    'type': 'general',\n",
       "    'reasonName': 'globalInteractionReason'}]},\n",
       " 'venue': {'id': '548ed3d0498e646a6e79463d',\n",
       "  'name': 'Best Kahve',\n",
       "  'location': {'address': 'Aksaray',\n",
       "   'crossStreet': 'İskenderpaşa Mh.',\n",
       "   'lat': 41.01269760481526,\n",
       "   'lng': 28.94727581257156,\n",
       "   'labeledLatLngs': [{'label': 'display',\n",
       "     'lat': 41.01269760481526,\n",
       "     'lng': 28.94727581257156}],\n",
       "   'cc': 'TR',\n",
       "   'city': 'İstanbul',\n",
       "   'state': 'Vatan Cd.',\n",
       "   'country': 'Türkiye',\n",
       "   'formattedAddress': ['Aksaray (İskenderpaşa Mh.)', 'İstanbul', 'Türkiye']},\n",
       "  'categories': [{'id': '4bf58dd8d48988d16d941735',\n",
       "    'name': 'Café',\n",
       "    'pluralName': 'Cafés',\n",
       "    'shortName': 'Café',\n",
       "    'icon': {'prefix': 'https://ss3.4sqi.net/img/categories_v2/food/cafe_',\n",
       "     'suffix': '.png'},\n",
       "    'primary': True}],\n",
       "  'photos': {'count': 0, 'groups': []}},\n",
       " 'referralId': 'e-5-548ed3d0498e646a6e79463d-0'}"
      ]
     },
     "execution_count": 13,
     "metadata": {},
     "output_type": "execute_result"
    }
   ],
   "source": [
    "items = d[\"groups\"][0][\"items\"]\n",
    "print(\"number of items: %i\" % len(items))\n",
    "items[0]"
   ]
  },
  {
   "cell_type": "code",
   "execution_count": 14,
   "metadata": {},
   "outputs": [
    {
     "data": {
      "text/plain": [
       "{'reasons': {'count': 0,\n",
       "  'items': [{'summary': 'This spot is popular',\n",
       "    'type': 'general',\n",
       "    'reasonName': 'globalInteractionReason'}]},\n",
       " 'venue': {'id': '5a43b13b340a583905a52551',\n",
       "  'name': 'Safir Lounge',\n",
       "  'location': {'address': 'Ali Kuşçu Mahallesi Hulusi Noyan Sk. No:3 Fatih İstanbul',\n",
       "   'crossStreet': 'Macar Kardeşler Caddesi',\n",
       "   'lat': 41.0170961145449,\n",
       "   'lng': 28.950641953225276,\n",
       "   'labeledLatLngs': [{'label': 'display',\n",
       "     'lat': 41.0170961145449,\n",
       "     'lng': 28.950641953225276}],\n",
       "   'postalCode': '34083',\n",
       "   'cc': 'TR',\n",
       "   'neighborhood': 'Ali Kuscu',\n",
       "   'city': 'İstanbul',\n",
       "   'state': 'İstanbul',\n",
       "   'country': 'Türkiye',\n",
       "   'formattedAddress': ['Ali Kuşçu Mahallesi Hulusi Noyan Sk. No:3 Fatih İstanbul (Macar Kardeşler Caddesi)',\n",
       "    '34083 İstanbul',\n",
       "    'Türkiye']},\n",
       "  'categories': [{'id': '4bf58dd8d48988d16d941735',\n",
       "    'name': 'Café',\n",
       "    'pluralName': 'Cafés',\n",
       "    'shortName': 'Café',\n",
       "    'icon': {'prefix': 'https://ss3.4sqi.net/img/categories_v2/food/cafe_',\n",
       "     'suffix': '.png'},\n",
       "    'primary': True}],\n",
       "  'photos': {'count': 0, 'groups': []},\n",
       "  'venuePage': {'id': '470846814'}},\n",
       " 'referralId': 'e-5-5a43b13b340a583905a52551-1'}"
      ]
     },
     "execution_count": 14,
     "metadata": {},
     "output_type": "execute_result"
    }
   ],
   "source": [
    "items[1]"
   ]
  },
  {
   "cell_type": "raw",
   "metadata": {},
   "source": [
    "And select couples of them:"
   ]
  },
  {
   "cell_type": "code",
   "execution_count": 15,
   "metadata": {},
   "outputs": [
    {
     "name": "stdout",
     "output_type": "stream",
     "text": [
      "found 14 cafes\n"
     ]
    },
    {
     "data": {
      "text/html": [
       "<div>\n",
       "<style scoped>\n",
       "    .dataframe tbody tr th:only-of-type {\n",
       "        vertical-align: middle;\n",
       "    }\n",
       "\n",
       "    .dataframe tbody tr th {\n",
       "        vertical-align: top;\n",
       "    }\n",
       "\n",
       "    .dataframe thead th {\n",
       "        text-align: right;\n",
       "    }\n",
       "</style>\n",
       "<table border=\"1\" class=\"dataframe\">\n",
       "  <thead>\n",
       "    <tr style=\"text-align: right;\">\n",
       "      <th></th>\n",
       "      <th>uid</th>\n",
       "      <th>name</th>\n",
       "      <th>shortname</th>\n",
       "      <th>formattedAddress</th>\n",
       "      <th>postalcode</th>\n",
       "      <th>lat</th>\n",
       "      <th>lng</th>\n",
       "    </tr>\n",
       "  </thead>\n",
       "  <tbody>\n",
       "    <tr>\n",
       "      <th>0</th>\n",
       "      <td>5a43b13b340a583905a52551</td>\n",
       "      <td>Safir Lounge</td>\n",
       "      <td>Café</td>\n",
       "      <td>[Ali Kuşçu Mahallesi Hulusi Noyan Sk. No:3 Fat...</td>\n",
       "      <td>34083</td>\n",
       "      <td>41.017096</td>\n",
       "      <td>28.950642</td>\n",
       "    </tr>\n",
       "    <tr>\n",
       "      <th>1</th>\n",
       "      <td>586fbf539343e02196adffb9</td>\n",
       "      <td>Şam Kahvesi</td>\n",
       "      <td>Café</td>\n",
       "      <td>[Ali Kuşçu Mahallesi, Taylasan Sokak No: 8/A (...</td>\n",
       "      <td>34083</td>\n",
       "      <td>41.017899</td>\n",
       "      <td>28.952020</td>\n",
       "    </tr>\n",
       "    <tr>\n",
       "      <th>2</th>\n",
       "      <td>581069fc38fa62276eadd637</td>\n",
       "      <td>Rumeli Çikolatacısı</td>\n",
       "      <td>Chocolate Shop</td>\n",
       "      <td>[Fevzi Paşa Caddesi No:13 (Fevzi paşa caddesi)...</td>\n",
       "      <td>34080</td>\n",
       "      <td>41.017599</td>\n",
       "      <td>28.949107</td>\n",
       "    </tr>\n",
       "    <tr>\n",
       "      <th>3</th>\n",
       "      <td>5925c60c396de00b7278eb19</td>\n",
       "      <td>EspressoLab</td>\n",
       "      <td>Coffee Shop</td>\n",
       "      <td>[Fevzi Paşa Cad. No: 17 (Fevzi Paşa Cad.), 340...</td>\n",
       "      <td>34080</td>\n",
       "      <td>41.017388</td>\n",
       "      <td>28.949536</td>\n",
       "    </tr>\n",
       "    <tr>\n",
       "      <th>4</th>\n",
       "      <td>585d4cc045005e7adc4239ad</td>\n",
       "      <td>Sütlü Kahve</td>\n",
       "      <td>Café</td>\n",
       "      <td>[Fevzipaşa Caddesi, Fatih, 34080 İstanbul, Tür...</td>\n",
       "      <td>34080</td>\n",
       "      <td>41.019022</td>\n",
       "      <td>28.947946</td>\n",
       "    </tr>\n",
       "  </tbody>\n",
       "</table>\n",
       "</div>"
      ],
      "text/plain": [
       "                        uid                 name       shortname  \\\n",
       "0  5a43b13b340a583905a52551         Safir Lounge            Café   \n",
       "1  586fbf539343e02196adffb9          Şam Kahvesi            Café   \n",
       "2  581069fc38fa62276eadd637  Rumeli Çikolatacısı  Chocolate Shop   \n",
       "3  5925c60c396de00b7278eb19          EspressoLab     Coffee Shop   \n",
       "4  585d4cc045005e7adc4239ad          Sütlü Kahve            Café   \n",
       "\n",
       "                                    formattedAddress postalcode        lat  \\\n",
       "0  [Ali Kuşçu Mahallesi Hulusi Noyan Sk. No:3 Fat...      34083  41.017096   \n",
       "1  [Ali Kuşçu Mahallesi, Taylasan Sokak No: 8/A (...      34083  41.017899   \n",
       "2  [Fevzi Paşa Caddesi No:13 (Fevzi paşa caddesi)...      34080  41.017599   \n",
       "3  [Fevzi Paşa Cad. No: 17 (Fevzi Paşa Cad.), 340...      34080  41.017388   \n",
       "4  [Fevzipaşa Caddesi, Fatih, 34080 İstanbul, Tür...      34080  41.019022   \n",
       "\n",
       "         lng  \n",
       "0  28.950642  \n",
       "1  28.952020  \n",
       "2  28.949107  \n",
       "3  28.949536  \n",
       "4  28.947946  "
      ]
     },
     "execution_count": 15,
     "metadata": {},
     "output_type": "execute_result"
    }
   ],
   "source": [
    "df_raw = []\n",
    "for item in items:\n",
    "    venue = item[\"venue\"]\n",
    "    categories, uid, name, location = venue[\"categories\"], venue[\"id\"], venue[\"name\"], venue[\"location\"]\n",
    "    assert len(categories) == 1\n",
    "    shortname = categories[0][\"shortName\"]\n",
    "    address = location[\"formattedAddress\"]\n",
    "    if not \"postalCode\" in location:\n",
    "        continue\n",
    "    postalcode = location[\"postalCode\"]\n",
    "    lat = location[\"lat\"]\n",
    "    lng = location[\"lng\"]\n",
    "    datarow = (uid, name, shortname, address, postalcode, lat, lng)\n",
    "    df_raw.append(datarow)\n",
    "df = pd.DataFrame(df_raw, columns=[\"uid\", \"name\", \"shortname\", \"formattedAddress\", \"postalcode\", \"lat\", \"lng\"])\n",
    "print(\"found %i cafes\" % len(df))\n",
    "df.head()"
   ]
  },
  {
   "cell_type": "raw",
   "metadata": {},
   "source": [
    "At this stage, heat map can helps us more."
   ]
  },
  {
   "cell_type": "code",
   "execution_count": 16,
   "metadata": {},
   "outputs": [
    {
     "data": {
      "text/plain": [
       "{'lat': 41.01384, 'lng': 28.94966}"
      ]
     },
     "execution_count": 16,
     "metadata": {},
     "output_type": "execute_result"
    }
   ],
   "source": [
    "istanbul_center = d[\"geocode\"][\"center\"]\n",
    "istanbul_center"
   ]
  },
  {
   "cell_type": "code",
   "execution_count": 17,
   "metadata": {},
   "outputs": [
    {
     "name": "stderr",
     "output_type": "stream",
     "text": [
      "/home/jupyterlab/conda/envs/python/lib/python3.6/site-packages/ipykernel_launcher.py:20: FutureWarning: Method .as_matrix will be removed in a future version. Use .values instead.\n"
     ]
    },
    {
     "data": {
      "text/html": [
       "<div style=\"width:100%;\"><div style=\"position:relative;width:100%;height:0;padding-bottom:60%;\"><iframe src=\"data:text/html;charset=utf-8;base64,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\" style=\"position:absolute;width:100%;height:100%;left:0;top:0;border:none !important;\" allowfullscreen webkitallowfullscreen mozallowfullscreen></iframe></div></div>"
      ],
      "text/plain": [
       "<folium.folium.Map at 0x7fed014deb00>"
      ]
     },
     "execution_count": 17,
     "metadata": {},
     "output_type": "execute_result"
    }
   ],
   "source": [
    "from folium import plugins\n",
    "\n",
    "# create map of Istanbul using latitude and longitude values\n",
    "map_istanbul = folium.Map(location=[istanbul_center[\"lat\"], istanbul_center[\"lng\"]], zoom_start=14)\n",
    "\n",
    "def add_markers(df):\n",
    "    for (j, row) in df.iterrows():\n",
    "        label = folium.Popup(row[\"name\"], parse_html=True)\n",
    "        folium.CircleMarker(\n",
    "            [row[\"lat\"], row[\"lng\"]],\n",
    "            radius=5,\n",
    "            popup=label,\n",
    "            color='blue',\n",
    "            fill=True,\n",
    "            fill_color='#3186cc',\n",
    "            fill_opacity=0.7,\n",
    "            parse_html=False).add_to(map_istanbul)\n",
    "\n",
    "add_markers(df)\n",
    "hm_data = df[[\"lat\", \"lng\"]].as_matrix().tolist()\n",
    "map_istanbul.add_child(plugins.HeatMap(hm_data))\n",
    "\n",
    "map_istanbul"
   ]
  },
  {
   "cell_type": "code",
   "execution_count": 18,
   "metadata": {},
   "outputs": [
    {
     "data": {
      "text/html": [
       "<div style=\"width:100%;\"><div style=\"position:relative;width:100%;height:0;padding-bottom:60%;\"><iframe src=\"data:text/html;charset=utf-8;base64,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\" style=\"position:absolute;width:100%;height:100%;left:0;top:0;border:none !important;\" allowfullscreen webkitallowfullscreen mozallowfullscreen></iframe></div></div>"
      ],
      "text/plain": [
       "<folium.folium.Map at 0x7fed0153cfd0>"
      ]
     },
     "execution_count": 18,
     "metadata": {},
     "output_type": "execute_result"
    }
   ],
   "source": [
    "lat = 41.01384 \n",
    "lng = 28.94966\n",
    "map_istanbul = folium.Map(location=[lat, lng], zoom_start=17)\n",
    "add_markers(df)\n",
    "folium.CircleMarker(\n",
    "    [lat, lng],\n",
    "    radius=15,\n",
    "    popup=\"Our Cafe!\",\n",
    "    color='red',\n",
    "    fill=True,\n",
    "    fill_color='#3186cc',\n",
    "    fill_opacity=0.7,\n",
    "    parse_html=False).add_to(map_istanbul)\n",
    "map_istanbul"
   ]
  },
  {
   "cell_type": "markdown",
   "metadata": {},
   "source": [
    "#### Result"
   ]
  },
  {
   "cell_type": "raw",
   "metadata": {},
   "source": [
    "As you can see, one possibly good location for new Cafe would be in crossroad of Sofular Caddesi."
   ]
  },
  {
   "cell_type": "markdown",
   "metadata": {},
   "source": [
    "#### Conclusion"
   ]
  },
  {
   "cell_type": "raw",
   "metadata": {},
   "source": [
    "Fatih region in Istanbul is estimated the optimal location for the coffee shop based on FourSquare data."
   ]
  }
 ],
 "metadata": {
  "kernelspec": {
   "display_name": "Python",
   "language": "python",
   "name": "conda-env-python-py"
  },
  "language_info": {
   "codemirror_mode": {
    "name": "ipython",
    "version": 3
   },
   "file_extension": ".py",
   "mimetype": "text/x-python",
   "name": "python",
   "nbconvert_exporter": "python",
   "pygments_lexer": "ipython3",
   "version": "3.6.7"
  }
 },
 "nbformat": 4,
 "nbformat_minor": 4
}
