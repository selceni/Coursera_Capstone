{
 "cells": [
  {
   "cell_type": "markdown",
   "metadata": {},
   "source": [
    "#  Capstone Project - The Battle of Neighborhoods"
   ]
  },
  {
   "cell_type": "markdown",
   "metadata": {},
   "source": [
    "### Best Places for Coffee Shop in Istanbul!"
   ]
  },
  {
   "cell_type": "code",
   "execution_count": 1,
   "metadata": {},
   "outputs": [
    {
     "name": "stdout",
     "output_type": "stream",
     "text": [
      "Solving environment: done\n",
      "\n",
      "\n",
      "==> WARNING: A newer version of conda exists. <==\n",
      "  current version: 4.5.11\n",
      "  latest version: 4.8.2\n",
      "\n",
      "Please update conda by running\n",
      "\n",
      "    $ conda update -n base -c defaults conda\n",
      "\n",
      "\n",
      "\n",
      "# All requested packages already installed.\n",
      "\n"
     ]
    }
   ],
   "source": [
    "!conda install -c conda-forge folium=0.5.0 --yes"
   ]
  },
  {
   "cell_type": "code",
   "execution_count": 2,
   "metadata": {},
   "outputs": [],
   "source": [
    "import pandas as pd\n",
    "import folium"
   ]
  },
  {
   "cell_type": "code",
   "execution_count": 4,
   "metadata": {},
   "outputs": [],
   "source": [
    "CLIENT_ID = 'HCIWEYMLE0SJAI3ESV4AFX5PNQVBSLP5HQ1YU4GISAHHRIFV' # your Foursquare ID\n",
    "CLIENT_SECRET = 'P4KVBEVJDIVREULUPIZHUL124JX353PUIP5KWJOGX1PLDB5B' # your Foursquare Secret\n",
    "VERSION = '20200202' # Foursquare API version"
   ]
  },
  {
   "cell_type": "raw",
   "metadata": {},
   "source": [
    "Let's find coffee nearIstanbul center, in 1000 m radius."
   ]
  },
  {
   "cell_type": "code",
   "execution_count": 8,
   "metadata": {},
   "outputs": [],
   "source": [
    "import requests\n",
    "\n",
    "request_parameters = {\n",
    "    \"client_id\": CLIENT_ID,\n",
    "    \"client_secret\": CLIENT_SECRET,\n",
    "    \"v\": '20180605',\n",
    "    \"section\": \"coffee\",\n",
    "    \"near\": \"İstanbul\",\n",
    "    \"radius\": 1000,\n",
    "    \"limit\": 50}\n",
    "\n",
    "data = requests.get(\"https://api.foursquare.com/v2/venues/explore\", params=request_parameters)"
   ]
  },
  {
   "cell_type": "code",
   "execution_count": 9,
   "metadata": {},
   "outputs": [
    {
     "data": {
      "text/plain": [
       "dict_keys(['suggestedFilters', 'geocode', 'headerLocation', 'headerFullLocation', 'headerLocationGranularity', 'query', 'totalResults', 'suggestedBounds', 'groups'])"
      ]
     },
     "execution_count": 9,
     "metadata": {},
     "output_type": "execute_result"
    }
   ],
   "source": [
    "d = data.json()[\"response\"]\n",
    "d.keys()"
   ]
  },
  {
   "cell_type": "code",
   "execution_count": 10,
   "metadata": {},
   "outputs": [
    {
     "data": {
      "text/plain": [
       "('city', 'Istanbul', 'Istanbul')"
      ]
     },
     "execution_count": 10,
     "metadata": {},
     "output_type": "execute_result"
    }
   ],
   "source": [
    "d[\"headerLocationGranularity\"], d[\"headerLocation\"], d[\"headerFullLocation\"]"
   ]
  },
  {
   "cell_type": "code",
   "execution_count": 11,
   "metadata": {},
   "outputs": [
    {
     "data": {
      "text/plain": [
       "({'ne': {'lat': 41.021645123314876, 'lng': 28.961753664589285},\n",
       "  'sw': {'lat': 41.007660082677425, 'lng': 28.93980187306155}},\n",
       " 199)"
      ]
     },
     "execution_count": 11,
     "metadata": {},
     "output_type": "execute_result"
    }
   ],
   "source": [
    "d[\"suggestedBounds\"], d[\"totalResults\"]"
   ]
  },
  {
   "cell_type": "code",
   "execution_count": 12,
   "metadata": {},
   "outputs": [
    {
     "data": {
      "text/plain": [
       "{'what': '',\n",
       " 'where': 'istanbul',\n",
       " 'center': {'lat': 41.01384, 'lng': 28.94966},\n",
       " 'displayString': 'Istanbul, Turkey',\n",
       " 'cc': 'TR',\n",
       " 'geometry': {'bounds': {'ne': {'lat': 41.583896981907635,\n",
       "    'lng': 29.95880097737308},\n",
       "   'sw': {'lat': 40.80260400000006, 'lng': 27.971700000085676}}},\n",
       " 'slug': 'istanbul',\n",
       " 'longId': '72057594038672980'}"
      ]
     },
     "execution_count": 12,
     "metadata": {},
     "output_type": "execute_result"
    }
   ],
   "source": [
    "d[\"geocode\"]"
   ]
  },
  {
   "cell_type": "code",
   "execution_count": 13,
   "metadata": {},
   "outputs": [
    {
     "data": {
      "text/plain": [
       "dict_keys(['type', 'name', 'items'])"
      ]
     },
     "execution_count": 13,
     "metadata": {},
     "output_type": "execute_result"
    }
   ],
   "source": [
    "d[\"groups\"][0].keys()"
   ]
  },
  {
   "cell_type": "code",
   "execution_count": 14,
   "metadata": {},
   "outputs": [
    {
     "data": {
      "text/plain": [
       "('Recommended Places', 'recommended')"
      ]
     },
     "execution_count": 14,
     "metadata": {},
     "output_type": "execute_result"
    }
   ],
   "source": [
    "d[\"groups\"][0][\"type\"], d[\"groups\"][0][\"name\"]"
   ]
  },
  {
   "cell_type": "raw",
   "metadata": {},
   "source": [
    "Let's examine the data:"
   ]
  },
  {
   "cell_type": "code",
   "execution_count": 15,
   "metadata": {},
   "outputs": [
    {
     "name": "stdout",
     "output_type": "stream",
     "text": [
      "number of items: 50\n"
     ]
    },
    {
     "data": {
      "text/plain": [
       "{'reasons': {'count': 0,\n",
       "  'items': [{'summary': 'This spot is popular',\n",
       "    'type': 'general',\n",
       "    'reasonName': 'globalInteractionReason'}]},\n",
       " 'venue': {'id': '548ed3d0498e646a6e79463d',\n",
       "  'name': 'Best Kahve',\n",
       "  'location': {'address': 'Aksaray',\n",
       "   'crossStreet': 'İskenderpaşa Mh.',\n",
       "   'lat': 41.01269760481526,\n",
       "   'lng': 28.94727581257156,\n",
       "   'labeledLatLngs': [{'label': 'display',\n",
       "     'lat': 41.01269760481526,\n",
       "     'lng': 28.94727581257156}],\n",
       "   'cc': 'TR',\n",
       "   'city': 'İstanbul',\n",
       "   'state': 'Vatan Cd.',\n",
       "   'country': 'Türkiye',\n",
       "   'formattedAddress': ['Aksaray (İskenderpaşa Mh.)', 'İstanbul', 'Türkiye']},\n",
       "  'categories': [{'id': '4bf58dd8d48988d16d941735',\n",
       "    'name': 'Café',\n",
       "    'pluralName': 'Cafés',\n",
       "    'shortName': 'Café',\n",
       "    'icon': {'prefix': 'https://ss3.4sqi.net/img/categories_v2/food/cafe_',\n",
       "     'suffix': '.png'},\n",
       "    'primary': True}],\n",
       "  'photos': {'count': 0, 'groups': []}},\n",
       " 'referralId': 'e-5-548ed3d0498e646a6e79463d-0'}"
      ]
     },
     "execution_count": 15,
     "metadata": {},
     "output_type": "execute_result"
    }
   ],
   "source": [
    "items = d[\"groups\"][0][\"items\"]\n",
    "print(\"number of items: %i\" % len(items))\n",
    "items[0]"
   ]
  },
  {
   "cell_type": "code",
   "execution_count": 16,
   "metadata": {},
   "outputs": [
    {
     "data": {
      "text/plain": [
       "{'reasons': {'count': 0,\n",
       "  'items': [{'summary': 'This spot is popular',\n",
       "    'type': 'general',\n",
       "    'reasonName': 'globalInteractionReason'}]},\n",
       " 'venue': {'id': '5a43b13b340a583905a52551',\n",
       "  'name': 'Safir Lounge',\n",
       "  'location': {'address': 'Ali Kuşçu Mahallesi Hulusi Noyan Sk. No:3 Fatih İstanbul',\n",
       "   'crossStreet': 'Macar Kardeşler Caddesi',\n",
       "   'lat': 41.0170961145449,\n",
       "   'lng': 28.950641953225276,\n",
       "   'labeledLatLngs': [{'label': 'display',\n",
       "     'lat': 41.0170961145449,\n",
       "     'lng': 28.950641953225276}],\n",
       "   'postalCode': '34083',\n",
       "   'cc': 'TR',\n",
       "   'neighborhood': 'Ali Kuscu',\n",
       "   'city': 'İstanbul',\n",
       "   'state': 'İstanbul',\n",
       "   'country': 'Türkiye',\n",
       "   'formattedAddress': ['Ali Kuşçu Mahallesi Hulusi Noyan Sk. No:3 Fatih İstanbul (Macar Kardeşler Caddesi)',\n",
       "    '34083 İstanbul',\n",
       "    'Türkiye']},\n",
       "  'categories': [{'id': '4bf58dd8d48988d16d941735',\n",
       "    'name': 'Café',\n",
       "    'pluralName': 'Cafés',\n",
       "    'shortName': 'Café',\n",
       "    'icon': {'prefix': 'https://ss3.4sqi.net/img/categories_v2/food/cafe_',\n",
       "     'suffix': '.png'},\n",
       "    'primary': True}],\n",
       "  'photos': {'count': 0, 'groups': []},\n",
       "  'venuePage': {'id': '470846814'}},\n",
       " 'referralId': 'e-5-5a43b13b340a583905a52551-1'}"
      ]
     },
     "execution_count": 16,
     "metadata": {},
     "output_type": "execute_result"
    }
   ],
   "source": [
    "items[1]"
   ]
  },
  {
   "cell_type": "raw",
   "metadata": {},
   "source": [
    "And select couples of them:"
   ]
  },
  {
   "cell_type": "code",
   "execution_count": 18,
   "metadata": {},
   "outputs": [
    {
     "name": "stdout",
     "output_type": "stream",
     "text": [
      "found 14 cafes\n"
     ]
    },
    {
     "data": {
      "text/html": [
       "<div>\n",
       "<style scoped>\n",
       "    .dataframe tbody tr th:only-of-type {\n",
       "        vertical-align: middle;\n",
       "    }\n",
       "\n",
       "    .dataframe tbody tr th {\n",
       "        vertical-align: top;\n",
       "    }\n",
       "\n",
       "    .dataframe thead th {\n",
       "        text-align: right;\n",
       "    }\n",
       "</style>\n",
       "<table border=\"1\" class=\"dataframe\">\n",
       "  <thead>\n",
       "    <tr style=\"text-align: right;\">\n",
       "      <th></th>\n",
       "      <th>uid</th>\n",
       "      <th>name</th>\n",
       "      <th>shortname</th>\n",
       "      <th>formattedAddress</th>\n",
       "      <th>postalcode</th>\n",
       "      <th>lat</th>\n",
       "      <th>lng</th>\n",
       "    </tr>\n",
       "  </thead>\n",
       "  <tbody>\n",
       "    <tr>\n",
       "      <th>0</th>\n",
       "      <td>5a43b13b340a583905a52551</td>\n",
       "      <td>Safir Lounge</td>\n",
       "      <td>Café</td>\n",
       "      <td>[Ali Kuşçu Mahallesi Hulusi Noyan Sk. No:3 Fat...</td>\n",
       "      <td>34083</td>\n",
       "      <td>41.017096</td>\n",
       "      <td>28.950642</td>\n",
       "    </tr>\n",
       "    <tr>\n",
       "      <th>1</th>\n",
       "      <td>586fbf539343e02196adffb9</td>\n",
       "      <td>Şam Kahvesi</td>\n",
       "      <td>Café</td>\n",
       "      <td>[Ali Kuşçu Mahallesi, Taylasan Sokak No: 8/A (...</td>\n",
       "      <td>34083</td>\n",
       "      <td>41.017899</td>\n",
       "      <td>28.952020</td>\n",
       "    </tr>\n",
       "    <tr>\n",
       "      <th>2</th>\n",
       "      <td>581069fc38fa62276eadd637</td>\n",
       "      <td>Rumeli Çikolatacısı</td>\n",
       "      <td>Chocolate Shop</td>\n",
       "      <td>[Fevzi Paşa Caddesi No:13 (Fevzi paşa caddesi)...</td>\n",
       "      <td>34080</td>\n",
       "      <td>41.017599</td>\n",
       "      <td>28.949107</td>\n",
       "    </tr>\n",
       "    <tr>\n",
       "      <th>3</th>\n",
       "      <td>5925c60c396de00b7278eb19</td>\n",
       "      <td>EspressoLab</td>\n",
       "      <td>Coffee Shop</td>\n",
       "      <td>[Fevzi Paşa Cad. No: 17 (Fevzi Paşa Cad.), 340...</td>\n",
       "      <td>34080</td>\n",
       "      <td>41.017388</td>\n",
       "      <td>28.949536</td>\n",
       "    </tr>\n",
       "    <tr>\n",
       "      <th>4</th>\n",
       "      <td>585d4cc045005e7adc4239ad</td>\n",
       "      <td>Sütlü Kahve</td>\n",
       "      <td>Café</td>\n",
       "      <td>[Fevzipaşa Caddesi, Fatih, 34080 İstanbul, Tür...</td>\n",
       "      <td>34080</td>\n",
       "      <td>41.019022</td>\n",
       "      <td>28.947946</td>\n",
       "    </tr>\n",
       "  </tbody>\n",
       "</table>\n",
       "</div>"
      ],
      "text/plain": [
       "                        uid                 name       shortname  \\\n",
       "0  5a43b13b340a583905a52551         Safir Lounge            Café   \n",
       "1  586fbf539343e02196adffb9          Şam Kahvesi            Café   \n",
       "2  581069fc38fa62276eadd637  Rumeli Çikolatacısı  Chocolate Shop   \n",
       "3  5925c60c396de00b7278eb19          EspressoLab     Coffee Shop   \n",
       "4  585d4cc045005e7adc4239ad          Sütlü Kahve            Café   \n",
       "\n",
       "                                    formattedAddress postalcode        lat  \\\n",
       "0  [Ali Kuşçu Mahallesi Hulusi Noyan Sk. No:3 Fat...      34083  41.017096   \n",
       "1  [Ali Kuşçu Mahallesi, Taylasan Sokak No: 8/A (...      34083  41.017899   \n",
       "2  [Fevzi Paşa Caddesi No:13 (Fevzi paşa caddesi)...      34080  41.017599   \n",
       "3  [Fevzi Paşa Cad. No: 17 (Fevzi Paşa Cad.), 340...      34080  41.017388   \n",
       "4  [Fevzipaşa Caddesi, Fatih, 34080 İstanbul, Tür...      34080  41.019022   \n",
       "\n",
       "         lng  \n",
       "0  28.950642  \n",
       "1  28.952020  \n",
       "2  28.949107  \n",
       "3  28.949536  \n",
       "4  28.947946  "
      ]
     },
     "execution_count": 18,
     "metadata": {},
     "output_type": "execute_result"
    }
   ],
   "source": [
    "df_raw = []\n",
    "for item in items:\n",
    "    venue = item[\"venue\"]\n",
    "    categories, uid, name, location = venue[\"categories\"], venue[\"id\"], venue[\"name\"], venue[\"location\"]\n",
    "    assert len(categories) == 1\n",
    "    shortname = categories[0][\"shortName\"]\n",
    "    address = location[\"formattedAddress\"]\n",
    "    if not \"postalCode\" in location:\n",
    "        continue\n",
    "    postalcode = location[\"postalCode\"]\n",
    "    lat = location[\"lat\"]\n",
    "    lng = location[\"lng\"]\n",
    "    datarow = (uid, name, shortname, address, postalcode, lat, lng)\n",
    "    df_raw.append(datarow)\n",
    "df = pd.DataFrame(df_raw, columns=[\"uid\", \"name\", \"shortname\", \"formattedAddress\", \"postalcode\", \"lat\", \"lng\"])\n",
    "print(\"found %i cafes\" % len(df))\n",
    "df.head()"
   ]
  },
  {
   "cell_type": "raw",
   "metadata": {},
   "source": [
    "At this stage, heat map can helps us more."
   ]
  },
  {
   "cell_type": "code",
   "execution_count": 20,
   "metadata": {},
   "outputs": [
    {
     "data": {
      "text/plain": [
       "{'lat': 41.01384, 'lng': 28.94966}"
      ]
     },
     "execution_count": 20,
     "metadata": {},
     "output_type": "execute_result"
    }
   ],
   "source": [
    "istanbul_center = d[\"geocode\"][\"center\"]\n",
    "istanbul_center"
   ]
  },
  {
   "cell_type": "code",
   "execution_count": 21,
   "metadata": {},
   "outputs": [
    {
     "name": "stderr",
     "output_type": "stream",
     "text": [
      "/home/jupyterlab/conda/envs/python/lib/python3.6/site-packages/ipykernel_launcher.py:20: FutureWarning: Method .as_matrix will be removed in a future version. Use .values instead.\n"
     ]
    },
    {
     "data": {
      "text/html": [
       "<div style=\"width:100%;\"><div style=\"position:relative;width:100%;height:0;padding-bottom:60%;\"><iframe src=\"data:text/html;charset=utf-8;base64,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\" style=\"position:absolute;width:100%;height:100%;left:0;top:0;border:none !important;\" allowfullscreen webkitallowfullscreen mozallowfullscreen></iframe></div></div>"
      ],
      "text/plain": [
       "<folium.folium.Map at 0x7fb05aa831d0>"
      ]
     },
     "execution_count": 21,
     "metadata": {},
     "output_type": "execute_result"
    }
   ],
   "source": [
    "from folium import plugins\n",
    "\n",
    "# create map of Istanbul using latitude and longitude values\n",
    "map_istanbul = folium.Map(location=[istanbul_center[\"lat\"], istanbul_center[\"lng\"]], zoom_start=14)\n",
    "\n",
    "def add_markers(df):\n",
    "    for (j, row) in df.iterrows():\n",
    "        label = folium.Popup(row[\"name\"], parse_html=True)\n",
    "        folium.CircleMarker(\n",
    "            [row[\"lat\"], row[\"lng\"]],\n",
    "            radius=5,\n",
    "            popup=label,\n",
    "            color='blue',\n",
    "            fill=True,\n",
    "            fill_color='#3186cc',\n",
    "            fill_opacity=0.7,\n",
    "            parse_html=False).add_to(map_istanbul)\n",
    "\n",
    "add_markers(df)\n",
    "hm_data = df[[\"lat\", \"lng\"]].as_matrix().tolist()\n",
    "map_istanbul.add_child(plugins.HeatMap(hm_data))\n",
    "\n",
    "map_istanbul"
   ]
  },
  {
   "cell_type": "code",
   "execution_count": 24,
   "metadata": {},
   "outputs": [
    {
     "data": {
      "text/html": [
       "<div style=\"width:100%;\"><div style=\"position:relative;width:100%;height:0;padding-bottom:60%;\"><iframe src=\"data:text/html;charset=utf-8;base64,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\" style=\"position:absolute;width:100%;height:100%;left:0;top:0;border:none !important;\" allowfullscreen webkitallowfullscreen mozallowfullscreen></iframe></div></div>"
      ],
      "text/plain": [
       "<folium.folium.Map at 0x7fb05a8dda90>"
      ]
     },
     "execution_count": 24,
     "metadata": {},
     "output_type": "execute_result"
    }
   ],
   "source": [
    "lat = 41.01384 \n",
    "lng = 28.94966\n",
    "map_istanbul = folium.Map(location=[lat, lng], zoom_start=17)\n",
    "add_markers(df)\n",
    "folium.CircleMarker(\n",
    "    [lat, lng],\n",
    "    radius=15,\n",
    "    popup=\"Our Cafe!\",\n",
    "    color='red',\n",
    "    fill=True,\n",
    "    fill_color='#3186cc',\n",
    "    fill_opacity=0.7,\n",
    "    parse_html=False).add_to(map_istanbul)\n",
    "map_istanbul"
   ]
  },
  {
   "cell_type": "code",
   "execution_count": null,
   "metadata": {},
   "outputs": [],
   "source": [
    "As you can see, one possibly good location for new Cafe would be in crossroad of Sofular Caddesi."
   ]
  }
 ],
 "metadata": {
  "kernelspec": {
   "display_name": "Python",
   "language": "python",
   "name": "conda-env-python-py"
  },
  "language_info": {
   "codemirror_mode": {
    "name": "ipython",
    "version": 3
   },
   "file_extension": ".py",
   "mimetype": "text/x-python",
   "name": "python",
   "nbconvert_exporter": "python",
   "pygments_lexer": "ipython3",
   "version": "3.6.7"
  }
 },
 "nbformat": 4,
 "nbformat_minor": 4
}
